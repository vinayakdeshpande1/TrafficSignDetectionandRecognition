{
 "cells": [
  {
   "cell_type": "code",
   "execution_count": 3,
   "id": "e480bb90",
   "metadata": {},
   "outputs": [],
   "source": [
    "import streamlit as st\n",
    "import pickle\n",
    "from PIL import Image\n",
    "import os\n",
    "import cv2\n",
    "import numpy as np\n",
    "import pandas as pd"
   ]
  },
  {
   "cell_type": "code",
   "execution_count": 4,
   "id": "cc7fbf79",
   "metadata": {},
   "outputs": [],
   "source": [
    "model_dir = r\"C:\\Users\\SAI\\Desktop\\Traffic Sign Detectiona and Recognition\\trained models\\pedestrian\"\n",
    "\n",
    "knn_model = pickle.load(open(os.path.join(model_dir, \"model_knn.sav\"), \"rb\"))"
   ]
  },
  {
   "cell_type": "code",
   "execution_count": 5,
   "id": "d5eac82f",
   "metadata": {},
   "outputs": [],
   "source": [
    "# @app.route(\"/\")\n",
    "def welcome():\n",
    "    return \"Welcome to Traffic Sign Detection and Recognition\""
   ]
  },
  {
   "cell_type": "code",
   "execution_count": 6,
   "id": "76d09037",
   "metadata": {},
   "outputs": [],
   "source": [
    "def processImg(img_path):\n",
    "    print(img_path)\n",
    "    i = cv2.imread(img_path)\n",
    "    cv2.imshow(\"Image\", i)\n",
    "    try:\n",
    "        path = os.path.join(img_path)\n",
    "        a = cv2.imread(path)\n",
    "        resize = (280,430)\n",
    "        img = cv2.resize(a, resize)\n",
    "        \n",
    "        gray = cv2.cvtColor(img, cv2.COLOR_BGR2GRAY)\n",
    "        sift = cv2.SIFT_create()\n",
    "        keypoints, descriptors = sift.detectAndCompute(gray, None)\n",
    "        out = pd.DataFrame(descriptors)\n",
    "        \n",
    "        try:\n",
    "            array_double = np.array(out, dtype=np.double)\n",
    "            a = knn_model.predict(array_double)\n",
    "        except ValueError as v:\n",
    "            print(\"Something went wrong..!\")\n",
    "            print(\"Error: \", v)\n",
    "        \n",
    "    except Exception as e:\n",
    "        print(str(e))"
   ]
  },
  {
   "cell_type": "code",
   "execution_count": 7,
   "id": "d929e905",
   "metadata": {},
   "outputs": [],
   "source": [
    "def main(img_path):\n",
    "    img = processImg(img_path)\n",
    "    print(img)\n",
    "    return\n"
   ]
  },
  {
   "cell_type": "code",
   "execution_count": 8,
   "id": "4ffc7dc7",
   "metadata": {},
   "outputs": [
    {
     "name": "stdout",
     "output_type": "stream",
     "text": [
      "C:/Users/SAI/Desktop/Traffic Sign Detectiona and Recognition/dataset/Pedestrian_2/pedestrian1.jpg\n",
      "None\n"
     ]
    }
   ],
   "source": [
    "main(r'C:/Users/SAI/Desktop/Traffic Sign Detectiona and Recognition/dataset/Pedestrian_2/pedestrian1.jpg')"
   ]
  }
 ],
 "metadata": {
  "kernelspec": {
   "display_name": "Python 3 (ipykernel)",
   "language": "python",
   "name": "python3"
  },
  "language_info": {
   "codemirror_mode": {
    "name": "ipython",
    "version": 3
   },
   "file_extension": ".py",
   "mimetype": "text/x-python",
   "name": "python",
   "nbconvert_exporter": "python",
   "pygments_lexer": "ipython3",
   "version": "3.9.6"
  }
 },
 "nbformat": 4,
 "nbformat_minor": 5
}
